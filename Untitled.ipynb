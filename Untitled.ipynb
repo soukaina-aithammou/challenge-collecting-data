{
 "cells": [
  {
   "cell_type": "code",
   "execution_count": null,
   "metadata": {},
   "outputs": [],
   "source": [
    "i = 0\n",
    "with open(houses.txt, \"r\") as f:\n",
    "    f.read(set_of_links[i])\n",
    "    i+=1"
   ]
  },
  {
   "cell_type": "code",
   "execution_count": null,
   "metadata": {},
   "outputs": [],
   "source": [
    "with open('houses.txt', 'r') as f:\n",
    "    for line in f:\n",
    "        house_link = line.strip()\n",
    "\n",
    "# html = requests.get(url).text\n",
    "# soup = BeautifulSoup(html, \"html.parser\")\n",
    "# for line in f:\n",
    "        url = line.strip()\n",
    "        html = requests.get(url).text  # is .content better?\n",
    "        soup = BeautifulSoup(html, \"html.parser\")\n",
    "        # work with soup here!"
   ]
  },
  {
   "cell_type": "code",
   "execution_count": null,
   "metadata": {},
   "outputs": [],
   "source": [
    "set_of_links=[]\n",
    "i = 0\n",
    "with open('houses.txt', \"r\") as f:\n",
    "    set_of_links[i] = f.readline()\n",
    "    i+=1"
   ]
  }
 ],
 "metadata": {
  "kernelspec": {
   "display_name": "Python 3",
   "language": "python",
   "name": "python3"
  },
  "language_info": {
   "codemirror_mode": {
    "name": "ipython",
    "version": 3
   },
   "file_extension": ".py",
   "mimetype": "text/x-python",
   "name": "python",
   "nbconvert_exporter": "python",
   "pygments_lexer": "ipython3",
   "version": "3.8.10"
  }
 },
 "nbformat": 4,
 "nbformat_minor": 4
}
