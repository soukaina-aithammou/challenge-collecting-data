{
 "cells": [
  {
   "cell_type": "code",
   "execution_count": 1,
   "metadata": {},
   "outputs": [
    {
     "name": "stderr",
     "output_type": "stream",
     "text": [
      "/usr/lib/python3/dist-packages/requests/__init__.py:89: RequestsDependencyWarning: urllib3 (1.26.9) or chardet (3.0.4) doesn't match a supported version!\n",
      "  warnings.warn(\"urllib3 ({}) or chardet ({}) doesn't match a supported \"\n"
     ]
    }
   ],
   "source": [
    "#1 importing libraries and methodes\n",
    "from bs4 import BeautifulSoup\n",
    "import requests,re\n",
    "from bs4 import BeautifulSoup as bs\n",
    "import json"
   ]
  },
  {
   "cell_type": "code",
   "execution_count": 2,
   "metadata": {},
   "outputs": [],
   "source": [
    "from selenium import webdriver\n",
    "from selenium.webdriver.support.ui import WebDriverWait\n",
    "from selenium.webdriver.support import expected_conditions as EC\n",
    "from selenium.common.exceptions import TimeoutException\n",
    "from selenium.webdriver.common.by import By"
   ]
  },
  {
   "cell_type": "code",
   "execution_count": 3,
   "metadata": {},
   "outputs": [],
   "source": [
    "#2 inputting the url\n",
    "url='https://www.immoweb.be/en/classified/apartment/for-sale/gavere/9890/9937664?searchId=62971b1f86bff'\n",
    "# url1='https://www.immoweb.be/en/search/apartment/for-sale?countries=BE'"
   ]
  },
  {
   "cell_type": "code",
   "execution_count": 4,
   "metadata": {},
   "outputs": [],
   "source": [
    "#Creat a request to get url\n",
    "#parse HTML with beautifulSoup\n",
    "r = requests.get(url)\n",
    "# print(url, r.status_code)\n",
    "soup = BeautifulSoup(r.content, \"lxml\")\n"
   ]
  },
  {
   "cell_type": "code",
   "execution_count": 5,
   "metadata": {},
   "outputs": [],
   "source": [
    "#get tables from webpage\n",
    "tables = []\n",
    "tables = soup.find_all('tbody',class_='classified-table__body')\n",
    "general_table = tables[0].find_all('tr')\n",
    "interior_table = tables[1].find_all('tr')\n",
    "exterior_table = tables[2].find_all('tr')\n",
    "facilities_table = tables[3].find_all('tr')\n",
    "financial_table=tables[6].find_all('tr')\n"
   ]
  },
  {
   "cell_type": "code",
   "execution_count": 6,
   "metadata": {},
   "outputs": [
    {
     "name": "stdout",
     "output_type": "stream",
     "text": [
      "key: Available as of\n",
      "value: At delivery\n",
      "key: Available date\n",
      "value: November 1 2023 - 12:00 AM\n",
      "key: Neighbourhood or locality\n",
      "value: Gent en omstreken\n",
      "key: Construction year\n",
      "value: 2021\n",
      "key: Floor\n",
      "value: 2\n",
      "key: Number of floors\n",
      "value: 2\n",
      "key: Building condition\n",
      "value: As new\n",
      "key: Number of frontages\n",
      "value: 4\n",
      "key: Surroundings type\n",
      "value: Urban\n"
     ]
    }
   ],
   "source": [
    "#get the info from general table\n",
    "dict_general={}\n",
    "list_general_key=[]\n",
    "list_general_value=[]\n",
    "\n",
    "for row in general_table:\n",
    "    for th in row.find_all('th'):\n",
    "        print('key:',f'{th.contents[0].strip()}') \n",
    "        list_general_key.append(th.contents[0].strip())\n",
    "        \n",
    "    for td in row.find_all('td'):\n",
    "        print('value:',f'{td.contents[0].strip()}')  \n",
    "        list_general_value.append(td.contents[0].strip())\n",
    "        "
   ]
  },
  {
   "cell_type": "code",
   "execution_count": 7,
   "metadata": {},
   "outputs": [],
   "source": [
    "dict_general=dict(zip(list_general_key,list_general_value))\n"
   ]
  },
  {
   "cell_type": "code",
   "execution_count": 8,
   "metadata": {},
   "outputs": [
    {
     "name": "stdout",
     "output_type": "stream",
     "text": [
      "key: Living area\n",
      "value: 78\n",
      "key: Living room surface\n",
      "value: 15\n",
      "key: Kitchen type\n",
      "value: Hyper equipped\n",
      "key: Kitchen surface\n",
      "value: 7\n",
      "key: Bedrooms\n",
      "value: 1\n",
      "key: Bedroom 1 surface\n",
      "value: 18\n",
      "key: Bathrooms\n",
      "value: 1\n",
      "key: Toilets\n",
      "value: 1\n",
      "key: Furnished\n",
      "value: No\n"
     ]
    }
   ],
   "source": [
    "#get the info from interior table\n",
    "dict_interior={}\n",
    "list_interior_key=[]\n",
    "list_interior_value=[]\n",
    "\n",
    "for row in interior_table:\n",
    "    for th in row.find_all('th'):\n",
    "        print('key:',f'{th.contents[0].strip()}')\n",
    "        list_interior_key.append(th.contents[0].strip())\n",
    "        \n",
    "    for td in row.find_all('td'):\n",
    "        print('value:',f'{td.contents[0].strip()}') \n",
    "        list_interior_value.append(td.contents[0].strip())"
   ]
  },
  {
   "cell_type": "code",
   "execution_count": 9,
   "metadata": {},
   "outputs": [],
   "source": [
    "dict_interior=dict(zip(list_interior_key,list_interior_value))\n",
    "\n"
   ]
  },
  {
   "cell_type": "code",
   "execution_count": 10,
   "metadata": {},
   "outputs": [
    {
     "name": "stdout",
     "output_type": "stream",
     "text": [
      "key: Terrace surface\n",
      "value: 10\n"
     ]
    }
   ],
   "source": [
    "#get the info from exterior table\n",
    "\n",
    "dict_exterior={}\n",
    "list_exterior_key=[]\n",
    "list_exterior_value=[]\n",
    "\n",
    "for row in exterior_table:\n",
    "    for th in row.find_all('th'):\n",
    "        print('key:',f'{th.contents[0].strip()}')\n",
    "        list_exterior_key.append(th.contents[0].strip())\n",
    "        \n",
    "    for td in row.find_all('td'):\n",
    "        print('value:',f'{td.contents[0].strip()}')\n",
    "        list_exterior_value.append(td.contents[0].strip())\n",
    "        "
   ]
  },
  {
   "cell_type": "code",
   "execution_count": 11,
   "metadata": {},
   "outputs": [],
   "source": [
    "dict_exterior=dict(zip(list_exterior_key,list_exterior_value))\n"
   ]
  },
  {
   "cell_type": "code",
   "execution_count": 12,
   "metadata": {},
   "outputs": [
    {
     "name": "stdout",
     "output_type": "stream",
     "text": [
      "key: Elevator\n",
      "value: Yes\n",
      "key: Accessible for disabled people\n",
      "value: Yes\n",
      "key: Visio phone\n",
      "value: Yes\n",
      "key: Swimming pool\n",
      "value: No\n"
     ]
    }
   ],
   "source": [
    "#get the info from facilities table\n",
    "\n",
    "dict_facilities={}\n",
    "list_facilities_key=[]\n",
    "list_facilities_value=[]\n",
    "\n",
    "for row in facilities_table:\n",
    "    for th in row.find_all('th'):\n",
    "        print('key:',f'{th.contents[0].strip()}')\n",
    "        list_facilities_key.append(th.contents[0].strip())\n",
    "        \n",
    "    for td in row.find_all('td'):\n",
    "        print('value:',f'{td.contents[0].strip()}')\n",
    "        list_facilities_value.append(td.contents[0].strip())"
   ]
  },
  {
   "cell_type": "code",
   "execution_count": 13,
   "metadata": {},
   "outputs": [],
   "source": [
    "dict_facilities=dict(zip(list_facilities_key,list_facilities_value))\n",
    "\n"
   ]
  },
  {
   "cell_type": "code",
   "execution_count": 14,
   "metadata": {},
   "outputs": [
    {
     "name": "stdout",
     "output_type": "stream",
     "text": [
      "key: Price\n",
      "€ 220,000\n",
      "key: Cadastral income\n",
      "€ 1\n",
      "key: Tenement building\n",
      "value: No\n",
      "value: \n"
     ]
    }
   ],
   "source": [
    "#get the info from financial table\n",
    "\n",
    "dict_financial={}\n",
    "list_financial_key=[]\n",
    "list_financial_value=[]\n",
    "\n",
    "for row in financial_table:\n",
    "    for th in row.find_all('th'):\n",
    "        print('key:',f'{th.contents[0].strip()}')\n",
    "        list_financial_key.append(th.contents[0].strip())\n",
    "        \n",
    "    for td in row.find_all('td'):\n",
    "        if len(td.find_all('span'))>0:\n",
    "            print(td.find_all('span')[0].contents[0].strip())\n",
    "            list_financial_value.append(td.find_all('span')[0].contents[0].strip())\n",
    "        else:\n",
    "            print('value:',f'{td.contents[0].strip()}')\n",
    "        # print('value:',f'{td.contents[0].strip()}')\n",
    "        #list_financial_value.append(td.contents[0].strip())"
   ]
  },
  {
   "cell_type": "code",
   "execution_count": 15,
   "metadata": {},
   "outputs": [],
   "source": [
    "dict_financial=dict(zip(list_financial_key,list_financial_value))\n"
   ]
  },
  {
   "cell_type": "code",
   "execution_count": 16,
   "metadata": {},
   "outputs": [],
   "source": [
    "#put all the dictionaries together\n",
    "dict_all = {**dict_general,**dict_interior, **dict_exterior, **dict_facilities, **dict_financial}\n"
   ]
  },
  {
   "cell_type": "code",
   "execution_count": 17,
   "metadata": {},
   "outputs": [],
   "source": [
    "#get the zip from the url with regex \n",
    "zipcode = re.findall(\"([/]+[\\d{4}]+[/])\",str(url)) \n",
    "zipcode = zipcode[0].replace(\"/\",\"\")\n",
    "    \n"
   ]
  },
  {
   "cell_type": "code",
   "execution_count": 18,
   "metadata": {},
   "outputs": [],
   "source": [
    "#appen the zipcode to the dictionary\n",
    "dict_all.update( [('zipcode', zipcode)] )\n",
    "#get all the data in dictionary"
   ]
  },
  {
   "cell_type": "code",
   "execution_count": 19,
   "metadata": {},
   "outputs": [],
   "source": [
    "#get in each page all the links of the houses \n",
    "#put the links in a list\n",
    "url='https://www.immoweb.be/en/search/apartment/for-sale?countries=BE'\n",
    "driver = webdriver.Firefox()\n",
    "# driver.implicitly_wait(30)\n",
    "driver.get(url)\n",
    "\n",
    "product_urls = []\n",
    "\n",
    "for page in range(1,4):\n",
    "    url2=(f'https://www.immoweb.be/en/search/apartment/for-sale?countries=BE&page={page}&orderBy=relevance')\n",
    "    product_info = driver.find_elements(by=By.XPATH,value=\"//a[@class='card__title-link']\")\n",
    "    for info in product_info:\n",
    "        product_urls.append(info.get_attribute(\"href\"))\n"
   ]
  },
  {
   "cell_type": "code",
   "execution_count": 20,
   "metadata": {},
   "outputs": [],
   "source": [
    "#put the list of links in csv file\n",
    "with open('houses.txt', 'w') as f:\n",
    "    f.write(json.dumps(product_urls))"
   ]
  },
  {
   "cell_type": "code",
   "execution_count": 21,
   "metadata": {},
   "outputs": [
    {
     "data": {
      "text/html": [
       "<div>\n",
       "<style scoped>\n",
       "    .dataframe tbody tr th:only-of-type {\n",
       "        vertical-align: middle;\n",
       "    }\n",
       "\n",
       "    .dataframe tbody tr th {\n",
       "        vertical-align: top;\n",
       "    }\n",
       "\n",
       "    .dataframe thead th {\n",
       "        text-align: right;\n",
       "    }\n",
       "</style>\n",
       "<table border=\"1\" class=\"dataframe\">\n",
       "  <thead>\n",
       "    <tr style=\"text-align: right;\">\n",
       "      <th></th>\n",
       "      <th>Available as of</th>\n",
       "      <th>Available date</th>\n",
       "      <th>Neighbourhood or locality</th>\n",
       "      <th>Construction year</th>\n",
       "      <th>Floor</th>\n",
       "      <th>Number of floors</th>\n",
       "      <th>Building condition</th>\n",
       "      <th>Number of frontages</th>\n",
       "      <th>Surroundings type</th>\n",
       "      <th>Living area</th>\n",
       "      <th>...</th>\n",
       "      <th>Toilets</th>\n",
       "      <th>Furnished</th>\n",
       "      <th>Terrace surface</th>\n",
       "      <th>Elevator</th>\n",
       "      <th>Accessible for disabled people</th>\n",
       "      <th>Visio phone</th>\n",
       "      <th>Swimming pool</th>\n",
       "      <th>Price</th>\n",
       "      <th>Cadastral income</th>\n",
       "      <th>zipcode</th>\n",
       "    </tr>\n",
       "  </thead>\n",
       "  <tbody>\n",
       "    <tr>\n",
       "      <th>0</th>\n",
       "      <td>At delivery</td>\n",
       "      <td>November 1 2023 - 12:00 AM</td>\n",
       "      <td>Gent en omstreken</td>\n",
       "      <td>2021</td>\n",
       "      <td>2</td>\n",
       "      <td>2</td>\n",
       "      <td>As new</td>\n",
       "      <td>4</td>\n",
       "      <td>Urban</td>\n",
       "      <td>78</td>\n",
       "      <td>...</td>\n",
       "      <td>1</td>\n",
       "      <td>No</td>\n",
       "      <td>10</td>\n",
       "      <td>Yes</td>\n",
       "      <td>Yes</td>\n",
       "      <td>Yes</td>\n",
       "      <td>No</td>\n",
       "      <td>€ 220,000</td>\n",
       "      <td>€ 1</td>\n",
       "      <td>9890</td>\n",
       "    </tr>\n",
       "  </tbody>\n",
       "</table>\n",
       "<p>1 rows × 26 columns</p>\n",
       "</div>"
      ],
      "text/plain": [
       "  Available as of              Available date Neighbourhood or locality  \\\n",
       "0     At delivery  November 1 2023 - 12:00 AM         Gent en omstreken   \n",
       "\n",
       "  Construction year Floor Number of floors Building condition  \\\n",
       "0              2021     2                2             As new   \n",
       "\n",
       "  Number of frontages Surroundings type Living area  ... Toilets Furnished  \\\n",
       "0                   4             Urban          78  ...       1        No   \n",
       "\n",
       "  Terrace surface Elevator Accessible for disabled people Visio phone  \\\n",
       "0              10      Yes                            Yes         Yes   \n",
       "\n",
       "  Swimming pool      Price Cadastral income zipcode  \n",
       "0            No  € 220,000              € 1    9890  \n",
       "\n",
       "[1 rows x 26 columns]"
      ]
     },
     "execution_count": 21,
     "metadata": {},
     "output_type": "execute_result"
    }
   ],
   "source": [
    "#create a dataframe from the dictionary\n",
    "import pandas as pd\n",
    "df = pd.json_normalize(dict_all)\n",
    "df"
   ]
  },
  {
   "cell_type": "code",
   "execution_count": 22,
   "metadata": {},
   "outputs": [],
   "source": [
    "#put the dataframe in csv file\n",
    "df.to_csv('data1.csv',index=False, header=True)\n"
   ]
  },
  {
   "cell_type": "code",
   "execution_count": null,
   "metadata": {},
   "outputs": [],
   "source": []
  }
 ],
 "metadata": {
  "kernelspec": {
   "display_name": "Python 3",
   "language": "python",
   "name": "python3"
  },
  "language_info": {
   "codemirror_mode": {
    "name": "ipython",
    "version": 3
   },
   "file_extension": ".py",
   "mimetype": "text/x-python",
   "name": "python",
   "nbconvert_exporter": "python",
   "pygments_lexer": "ipython3",
   "version": "3.8.10"
  }
 },
 "nbformat": 4,
 "nbformat_minor": 4
}
